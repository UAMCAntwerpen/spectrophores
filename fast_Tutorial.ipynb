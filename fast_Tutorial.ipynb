{
 "metadata": {
  "name": ""
 },
 "nbformat": 3,
 "nbformat_minor": 0,
 "worksheets": [
  {
   "cells": [
    {
     "cell_type": "heading",
     "level": 3,
     "metadata": {},
     "source": [
      "Dependencies:"
     ]
    },
    {
     "cell_type": "markdown",
     "metadata": {},
     "source": [
      "- boost (http://www.boost.org/)\n",
      "- rdkit (http://www.rdkit.org/docs/Install.html)\n",
      "\n",
      "Please take a look at the websites addresses for necessary libraries to use Spectrophores to \n",
      "get more information abou how to get and install these libraries. \n",
      "\n",
      "Next we are to show how to install these libraries in a linux enviroment.\n",
      "\n",
      "Boost library :\n",
      "       $ sudo apt-get install libboost-all-dev\n",
      "\n",
      "RDKit:\n",
      "       $ sudo apt-get install python-rdkit librdkit1 rdkit-data"
     ]
    },
    {
     "cell_type": "heading",
     "level": 3,
     "metadata": {},
     "source": [
      "Installing Spectrophore Library"
     ]
    },
    {
     "cell_type": "markdown",
     "metadata": {},
     "source": [
      "Download spectrophore code from https://github.com/UAMCAntwerpen/spectrophores, and uncompress the file.\n",
      "\n",
      "Go to spectrophores-master directory and type:\n",
      "\n",
      "    $ sudo python setup install \n",
      "\n",
      "You can use the spectrophore library in your python code at the following way: \n"
     ]
    },
    {
     "cell_type": "code",
     "collapsed": false,
     "input": [
      "from spectrophores.spectrophore import spectrophoreCalculator"
     ],
     "language": "python",
     "metadata": {},
     "outputs": [],
     "prompt_number": 1
    },
    {
     "cell_type": "heading",
     "level": 3,
     "metadata": {},
     "source": [
      "Importing RDKit"
     ]
    },
    {
     "cell_type": "code",
     "collapsed": false,
     "input": [
      "#RDKit library\n",
      "from __future__ import print_function\n",
      "from rdkit import Chem\n",
      "from rdkit.Chem import AllChem"
     ],
     "language": "python",
     "metadata": {},
     "outputs": [],
     "prompt_number": 2
    },
    {
     "cell_type": "heading",
     "level": 3,
     "metadata": {},
     "source": [
      "Importing Spectrophore library"
     ]
    },
    {
     "cell_type": "code",
     "collapsed": false,
     "input": [
      "#spectrophore libray\n",
      "from spectrophores.spectrophore import spectrophoreCalculator"
     ],
     "language": "python",
     "metadata": {},
     "outputs": [],
     "prompt_number": 3
    },
    {
     "cell_type": "heading",
     "level": 2,
     "metadata": {},
     "source": [
      "Reading Molecules with RDKit"
     ]
    },
    {
     "cell_type": "markdown",
     "metadata": {},
     "source": [
      "In RDKit is possible to upload informations about molecules using several file formats, e.g. smiles, smarts, mol2, sdf. Basicaly, there are two main ways to pass information to RDKit, at a command line or loading by files. \n",
      "\n",
      "By default RDKit doesn't consider Hidrogens when loads a molecule, it's importante the user be conscient about this. "
     ]
    },
    {
     "cell_type": "heading",
     "level": 3,
     "metadata": {},
     "source": [
      "Loading Molecules From Smiles"
     ]
    },
    {
     "cell_type": "code",
     "collapsed": false,
     "input": [
      "smi_s = 'F[C@@](I)(Br)Cl'\n",
      "mol_s = Chem.MolFromSmiles(smi_s)\n",
      "AllChem.EmbedMolecule(mol_s) \n",
      "#AllChem.MMFFOptimizeMolecule(mol_s);"
     ],
     "language": "python",
     "metadata": {},
     "outputs": [],
     "prompt_number": 4
    },
    {
     "cell_type": "heading",
     "level": 3,
     "metadata": {},
     "source": [
      "Loading Molecules From a Sdf File"
     ]
    },
    {
     "cell_type": "code",
     "collapsed": false,
     "input": [
      "# reading entry files\n",
      "ref = Chem.SDMolSupplier(\"path_to_file\", removeHs=False)\n",
      "ref = [x for x in ref if x is not None] "
     ],
     "language": "python",
     "metadata": {},
     "outputs": []
    },
    {
     "cell_type": "markdown",
     "metadata": {},
     "source": [
      "Obs.: For more informations, please read the RDKit tutorial at <a href=http://www.rdkit.org/docs/GettingStartedInPython.html> http://www.rdkit.org/docs/GettingStartedInPython.html</a>."
     ]
    },
    {
     "cell_type": "heading",
     "level": 3,
     "metadata": {},
     "source": [
      "First Contact: Calculating Spectrophore"
     ]
    },
    {
     "cell_type": "code",
     "collapsed": false,
     "input": [
      "calculator = spectrophoreCalculator()\n",
      "calculator.calculate(mol_s)"
     ],
     "language": "python",
     "metadata": {},
     "outputs": [
      {
       "metadata": {},
       "output_type": "pyout",
       "prompt_number": 5,
       "text": [
        "array([  1.92190861,   2.58322483,   1.50779961,   4.47128574,\n",
        "         5.49701023,   6.98774323,   4.25212321,   3.95179533,\n",
        "         5.93661616,   8.23951424,   9.16096027,   5.32191626,\n",
        "         2.04999628,   2.52032422,   6.84607253,   9.52229459,\n",
        "        11.09511133,  13.52428646,   9.42900067,  13.15011982,\n",
        "        14.28082103,  18.63760512,  21.34117248,  11.49421108,\n",
        "         5.21088837,   3.72660843,   2.9043753 ,   6.03657827,\n",
        "        10.51868127,   8.18885522,   6.28237231,   6.97597263,\n",
        "         8.65288904,  12.48063001,  13.43179086,   9.62543559,\n",
        "         0.90592641,   0.98933782,   2.97022263,   3.7140072 ,\n",
        "         4.0505374 ,   4.2411592 ,   2.80612091,   4.0525092 ,\n",
        "         4.34418157,   5.74555681,   6.78125949,   4.25966378])"
       ]
      }
     ],
     "prompt_number": 5
    },
    {
     "cell_type": "heading",
     "level": 3,
     "metadata": {},
     "source": [
      "Working with multiple conformations"
     ]
    },
    {
     "cell_type": "markdown",
     "metadata": {},
     "source": [
      "Obs.:\n",
      "By default the \"calculate\" function uses the first conformation of one molecule ( position 0 ) to calculate the spectrophore. Thusm the commands bellow are equivalent: \n"
     ]
    },
    {
     "cell_type": "code",
     "collapsed": false,
     "input": [
      "calculator.calculate(mol_s)\n",
      "calculator.calculate(mol_s, 0)"
     ],
     "language": "python",
     "metadata": {},
     "outputs": [
      {
       "metadata": {},
       "output_type": "pyout",
       "prompt_number": 6,
       "text": [
        "array([  1.92190861,   2.58322483,   1.50779961,   4.47128574,\n",
        "         5.49701023,   6.98774323,   4.25212321,   3.95179533,\n",
        "         5.93661616,   8.23951424,   9.16096027,   5.32191626,\n",
        "         2.04999628,   2.52032422,   6.84607253,   9.52229459,\n",
        "        11.09511133,  13.52428646,   9.42900067,  13.15011982,\n",
        "        14.28082103,  18.63760512,  21.34117248,  11.49421108,\n",
        "         5.21088837,   3.72660843,   2.9043753 ,   6.03657827,\n",
        "        10.51868127,   8.18885522,   6.28237231,   6.97597263,\n",
        "         8.65288904,  12.48063001,  13.43179086,   9.62543559,\n",
        "         0.90592641,   0.98933782,   2.97022263,   3.7140072 ,\n",
        "         4.0505374 ,   4.2411592 ,   2.80612091,   4.0525092 ,\n",
        "         4.34418157,   5.74555681,   6.78125949,   4.25966378])"
       ]
      }
     ],
     "prompt_number": 6
    },
    {
     "cell_type": "markdown",
     "metadata": {},
     "source": [
      "In case you are working with more conformations per molecule it's necessary to manege them. This is possible to be done by passing  the number of the desired conformation \"calculate\" function, e.g:\n",
      "\n",
      "calculator.calculate(mol_s, 12)"
     ]
    },
    {
     "cell_type": "heading",
     "level": 3,
     "metadata": {},
     "source": [
      "Default options:"
     ]
    },
    {
     "cell_type": "markdown",
     "metadata": {},
     "source": [
      "Normalization\n",
      "    Specifies the kind of normalization that should be\n",
      "    performed\n",
      "    \n",
      "    Valid values are:   none (default), mean, std, all\n",
      "\n",
      "Stereo\n",
      "    Specifies the kind of cages that should be use. \n",
      "    \n",
      "    Valid values are: none (default), unique, mirror, all\n",
      "\n",
      "RotateStepSize\n",
      "    Valid values are: 1, 2, 5, 10, 15, 20 (default), 30, 36, 45, 60\n",
      "\n",
      "\n",
      "Resolution: \n",
      "    Defaut 3 Angstrons. This value can't be negative\n",
      "\n"
     ]
    },
    {
     "cell_type": "heading",
     "level": 4,
     "metadata": {},
     "source": [
      "Ex.:"
     ]
    },
    {
     "cell_type": "heading",
     "level": 4,
     "metadata": {},
     "source": [
      "Using defaut options"
     ]
    },
    {
     "cell_type": "code",
     "collapsed": false,
     "input": [
      "calculator = spectrophoreCalculator(resolution=3, accuracy=20, stereo='none', normalization='none') ## default\n",
      "calculator.calculate(mol_s)"
     ],
     "language": "python",
     "metadata": {},
     "outputs": [
      {
       "metadata": {},
       "output_type": "pyout",
       "prompt_number": 7,
       "text": [
        "array([  1.92190861,   2.58322483,   1.50779961,   4.47128574,\n",
        "         5.49701023,   6.98774323,   4.25212321,   3.95179533,\n",
        "         5.93661616,   8.23951424,   9.16096027,   5.32191626,\n",
        "         2.04999628,   2.52032422,   6.84607253,   9.52229459,\n",
        "        11.09511133,  13.52428646,   9.42900067,  13.15011982,\n",
        "        14.28082103,  18.63760512,  21.34117248,  11.49421108,\n",
        "         5.21088837,   3.72660843,   2.9043753 ,   6.03657827,\n",
        "        10.51868127,   8.18885522,   6.28237231,   6.97597263,\n",
        "         8.65288904,  12.48063001,  13.43179086,   9.62543559,\n",
        "         0.90592641,   0.98933782,   2.97022263,   3.7140072 ,\n",
        "         4.0505374 ,   4.2411592 ,   2.80612091,   4.0525092 ,\n",
        "         4.34418157,   5.74555681,   6.78125949,   4.25966378])"
       ]
      }
     ],
     "prompt_number": 7
    },
    {
     "cell_type": "heading",
     "level": 4,
     "metadata": {},
     "source": [
      "Switching default options"
     ]
    },
    {
     "cell_type": "code",
     "collapsed": false,
     "input": [
      "calculator = spectrophoreCalculator(resolution=3, accuracy=30, stereo='all', normalization='all') ## switching options\n",
      "calculator.calculate(mol_s)"
     ],
     "language": "python",
     "metadata": {},
     "outputs": [
      {
       "metadata": {},
       "output_type": "pyout",
       "prompt_number": 8,
       "text": [
        "array([-2.08022386, -0.91592416, -0.82411352, -1.14296027, -0.46892617,\n",
        "       -1.04493663, -1.05762336, -0.01323136,  1.02583874,  0.59879848,\n",
        "       -0.03521629,  0.06492113,  1.50566713,  0.6982763 ,  0.4338022 ,\n",
        "        1.02185115,  0.85260703,  1.44078985, -2.08676878, -0.98697473,\n",
        "       -0.93161979, -1.13183342, -0.33010009, -1.09275976, -1.09708526,\n",
        "       -0.09777615,  1.03830705,  0.50500084,  0.11716313,  0.05097852,\n",
        "        1.52092193,  0.80939691,  0.40032717,  0.9611015 ,  0.83916316,\n",
        "        1.45316138, -2.41220913, -0.8212793 , -1.04834398, -0.53722214,\n",
        "       -0.53955086, -0.66191209, -0.78910571,  0.18245861,  0.55130209,\n",
        "        0.05531385, -0.22926086,  0.24087552,  1.24527993,  0.36574043,\n",
        "        0.61757513,  0.77006557,  1.62131304,  1.67972995, -2.51631403,\n",
        "       -0.94863554, -1.01091361, -0.59563904, -0.41240609, -0.60998744,\n",
        "       -0.91646196,  0.11351927,  0.35924817,  0.24066404, -0.24395882,\n",
        "        0.08375046,  1.26831655,  0.54480983,  0.43201347,  0.63025232,\n",
        "        1.49416828,  1.79680409, -2.1647192 , -1.19728371, -0.11851702,\n",
        "       -1.02513562, -0.83776334, -1.0951443 , -0.95735756,  0.25333142,\n",
        "        1.07300912,  0.26721346,  0.04759481,  0.46082719,  1.3736082 ,\n",
        "        0.76910968, -0.09746949,  0.77407986,  1.18920642,  1.52436018,\n",
        "       -2.16367926, -1.01284951, -0.36226669, -1.07508787, -0.77911114,\n",
        "       -1.08782087, -1.0029651 ,  0.33481162,  1.01221782,  0.25534569,\n",
        "       -0.16967796,  0.41792405,  1.45495148,  0.71957771, -0.09255346,\n",
        "        0.92023055,  0.94661323,  1.44538962, -2.57528865, -0.2488703 ,\n",
        "       -0.89841974, -0.36924922, -0.88202816, -0.85113907, -1.19203365,\n",
        "        0.16944144,  1.00923763, -0.17236061, -0.35266014,  0.24079904,\n",
        "        1.88170462,  0.37085075,  0.68323566,  0.92097298,  0.9728652 ,\n",
        "        1.20032142, -2.52389962, -0.20802159, -0.92381276, -0.24317427,\n",
        "       -0.79755072, -1.04113325, -0.73640161,  0.45185966,  0.71126947,\n",
        "        0.70162257, -0.53711522,  0.1781936 ,  1.3966565 ,  0.20119962,\n",
        "        0.26605841,  0.85901519,  0.8898843 ,  1.44797053])"
       ]
      }
     ],
     "prompt_number": 8
    },
    {
     "cell_type": "heading",
     "level": 2,
     "metadata": {},
     "source": [
      "PySpectrophore.py file"
     ]
    },
    {
     "cell_type": "markdown",
     "metadata": {},
     "source": [
      "This is a code that works likewise Obspectrophore, spectrophore code implemented on OpenBabel plataform. It is mandatory to provide a file (sdf, mol2) containing molecules as input and the name for the output file.\n",
      "\n",
      "In linux is possible to make the code globaly available by copy and past this file to /usr/local/bin or create a alias for it."
     ]
    },
    {
     "cell_type": "heading",
     "level": 4,
     "metadata": {},
     "source": [
      "Usage:"
     ]
    },
    {
     "cell_type": "markdown",
     "metadata": {},
     "source": [
      "$ PySpectrophore -i &lt;file&gt; -o &lt;outFile&gt; [options]\n"
     ]
    },
    {
     "cell_type": "heading",
     "level": 4,
     "metadata": {},
     "source": [
      "Options:"
     ]
    },
    {
     "cell_type": "markdown",
     "metadata": {},
     "source": [
      "-h, --help   :  \n",
      "\n",
      "                    show this help message and exit\n"
     ]
    },
    {
     "cell_type": "markdown",
     "metadata": {},
     "source": [
      "  -i FILE_INPUT, --InputFile=FILE_INPUT : \n",
      "  \n",
      "                      Store the name of the file to input data"
     ]
    },
    {
     "cell_type": "markdown",
     "metadata": {},
     "source": [
      "  -o FILE_OUTPUT, --OutFile=FILE_OUTPUT\n",
      "  \n",
      "                        File for the output file"
     ]
    },
    {
     "cell_type": "markdown",
     "metadata": {},
     "source": [
      "-n NORM, --Normalization=NORM\n",
      "  \n",
      "                        Specifies the kind of normalization that should be\n",
      "                        performed Valid values are:   none (default), mean,\n",
      "                        std, all"
     ]
    },
    {
     "cell_type": "markdown",
     "metadata": {},
     "source": [
      "  -s STEREO, --Stereo=STEREO\n",
      "  \n",
      "                        Specifies the kind of cages that should be use. Valid\n",
      "                        values are: none (default), unique, mirror, all"
     ]
    },
    {
     "cell_type": "markdown",
     "metadata": {},
     "source": [
      "  -t ROTATESIZE, --RotateSize=ROTATESIZE\n",
      "  \n",
      "                        1, 2, 5, 10, 15, 20 (default), 30, 36, 45, 60"
     ]
    },
    {
     "cell_type": "markdown",
     "metadata": {},
     "source": [
      " -e RESOLUTION, --Resolution=RESOLUTION\n",
      "  \n"
     ]
    },
    {
     "cell_type": "raw",
     "metadata": {},
     "source": []
    }
   ],
   "metadata": {}
  }
 ]
}
