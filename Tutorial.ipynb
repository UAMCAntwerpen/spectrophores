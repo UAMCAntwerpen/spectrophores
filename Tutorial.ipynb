{
 "metadata": {
  "name": ""
 },
 "nbformat": 3,
 "nbformat_minor": 0,
 "worksheets": [
  {
   "cells": [
    {
     "cell_type": "heading",
     "level": 3,
     "metadata": {},
     "source": [
      "Dependencies:"
     ]
    },
    {
     "cell_type": "raw",
     "metadata": {},
     "source": [
      "Please find websites of libraries needed to use Spectrophores to get information about instalation. \n",
      "\n",
      "Next we are to show how to install these libraries in a linux enviroment.\n",
      "\n",
      "Boost library (http://www.boost.org/):\n",
      "   $ sudo apt-get install libboost-all-dev\n",
      "\n",
      "RDKit (http://www.rdkit.org/docs/Install.html):\n",
      "   $ sudo apt-get install python-rdkit librdkit1 rdkit-data"
     ]
    },
    {
     "cell_type": "heading",
     "level": 3,
     "metadata": {},
     "source": [
      "Importing Libraries to Python code"
     ]
    },
    {
     "cell_type": "code",
     "collapsed": false,
     "input": [
      "#RDKit library\n",
      "from __future__ import print_function\n",
      "from rdkit import Chem\n",
      "from rdkit.Chem import AllChem\n",
      "\n",
      "\n",
      "#spectrophore libray\n",
      "from spectrophores.spectrophore import spectrophoreCalculator\n"
     ],
     "language": "python",
     "metadata": {},
     "outputs": [],
     "prompt_number": 1
    },
    {
     "cell_type": "heading",
     "level": 2,
     "metadata": {},
     "source": [
      "Reading Molecules with RDKit"
     ]
    },
    {
     "cell_type": "raw",
     "metadata": {},
     "source": [
      "In RDKit is possible to upload informations about molecules using several file formats, e.g. smiles, smarts, mol2, sdf. Basicaly, there are two main ways to pass information to RDKit, at a command line or loading by files. \n",
      "\n",
      "By default RDKit doesn't consider Hidrogens when loads a molecule, it's importante the user be conscient about this. "
     ]
    },
    {
     "cell_type": "heading",
     "level": 3,
     "metadata": {},
     "source": [
      "Loading Molecules From Smiles"
     ]
    },
    {
     "cell_type": "code",
     "collapsed": false,
     "input": [
      "smi_s = 'F[C@@](I)(Br)Cl'\n",
      "mol_s = Chem.MolFromSmiles(smi_s)\n",
      "AllChem.EmbedMolecule(mol_s) \n",
      "#AllChem.MMFFOptimizeMolecule(mol_s);"
     ],
     "language": "python",
     "metadata": {},
     "outputs": [],
     "prompt_number": 2
    },
    {
     "cell_type": "heading",
     "level": 3,
     "metadata": {},
     "source": [
      "Loading Molecules From a Sdf File"
     ]
    },
    {
     "cell_type": "code",
     "collapsed": false,
     "input": [
      "# reading entry files\n",
      "ref = Chem.SDMolSupplier(\"path_to_file\", removeHs=False)\n",
      "ref = [x for x in ref if x is not None] "
     ],
     "language": "python",
     "metadata": {},
     "outputs": []
    },
    {
     "cell_type": "markdown",
     "metadata": {},
     "source": [
      "Obs.: For more informations, please read the RDKit tutorial at <a href=http://www.rdkit.org/docs/GettingStartedInPython.html> http://www.rdkit.org/docs/GettingStartedInPython.html</a>."
     ]
    },
    {
     "cell_type": "heading",
     "level": 3,
     "metadata": {},
     "source": [
      "First Contact: Calculating Spectrophore"
     ]
    },
    {
     "cell_type": "code",
     "collapsed": false,
     "input": [
      "calculator = spectrophoreCalculator()\n",
      "calculator.calculate(mol_s)"
     ],
     "language": "python",
     "metadata": {},
     "outputs": [
      {
       "metadata": {},
       "output_type": "pyout",
       "prompt_number": 3,
       "text": [
        "array([  1.92190861,   2.58322483,   1.50779961,   4.47128574,\n",
        "         5.49701023,   6.98774323,   4.25212321,   3.95179533,\n",
        "         5.93661616,   8.23951424,   9.16096027,   5.32191626,\n",
        "         2.04999628,   2.52032422,   6.84607253,   9.52229459,\n",
        "        11.09511133,  13.52428646,   9.42900067,  13.15011982,\n",
        "        14.28082103,  18.63760512,  21.34117248,  11.49421108,\n",
        "         5.21088837,   3.72660843,   2.9043753 ,   6.03657827,\n",
        "        10.51868127,   8.18885522,   6.28237231,   6.97597263,\n",
        "         8.65288904,  12.48063001,  13.43179086,   9.62543559,\n",
        "         0.90592641,   0.98933782,   2.97022263,   3.7140072 ,\n",
        "         4.0505374 ,   4.2411592 ,   2.80612091,   4.0525092 ,\n",
        "         4.34418157,   5.74555681,   6.78125949,   4.25966378])"
       ]
      }
     ],
     "prompt_number": 3
    },
    {
     "cell_type": "raw",
     "metadata": {},
     "source": [
      "Obs.: \n",
      "By default the \"calculate\" function uses the first conformation of one molecule, numbered by 0, so the commands bellow are equivalent: \n",
      "calculator.calculate(mol_s)\n",
      "calculator.calculate(mol_s, 0)\n",
      "\n",
      "In case of you have more conformations of one molecule it is possible to manage it by passing the number of the desired conformation to the \"calculate\" function, r.g:\n",
      "calculator.calculate(mol_s, 12)\n",
      "\n"
     ]
    },
    {
     "cell_type": "heading",
     "level": 3,
     "metadata": {},
     "source": [
      "Default options:"
     ]
    },
    {
     "cell_type": "markdown",
     "metadata": {},
     "source": [
      "Normalization\n",
      "\n",
      "    Specifies the kind of normalization that should be\n",
      "    performed\n",
      "    \n",
      "    Valid values are:   none (default), mean, std, all"
     ]
    },
    {
     "cell_type": "markdown",
     "metadata": {},
     "source": [
      "Stereo\n",
      "    Specifies the kind of cages that should be use. \n",
      "    \n",
      "    Valid values are: none (default), unique, mirror, all"
     ]
    },
    {
     "cell_type": "markdown",
     "metadata": {},
     "source": [
      "RotateStepSize\n",
      "\n",
      "    Valid values are: 1, 2, 5, 10, 15, 20 (default), 30, 36, 45, 60"
     ]
    },
    {
     "cell_type": "raw",
     "metadata": {},
     "source": [
      "Resolution:\n",
      "\n",
      "    Defaut 3 Angstrons. This value can't be negative"
     ]
    },
    {
     "cell_type": "heading",
     "level": 4,
     "metadata": {},
     "source": [
      "Ex.:"
     ]
    },
    {
     "cell_type": "code",
     "collapsed": false,
     "input": [
      "calculator = spectrophoreCalculator(resolution=3, accuracy=20, stereo='none', normalization='none') ## default\n",
      "calculator.calculate(mol_s)"
     ],
     "language": "python",
     "metadata": {},
     "outputs": [
      {
       "metadata": {},
       "output_type": "pyout",
       "prompt_number": 11,
       "text": [
        "array([  1.88642977,   2.58299171,   1.46004526,   4.4886305 ,\n",
        "         5.47002601,   6.9816287 ,   4.27607905,   3.97648183,\n",
        "         5.92723242,   8.29655067,   9.23593129,   5.30970658,\n",
        "         1.97078306,   2.57279281,   6.68452074,   9.67650349,\n",
        "        11.27542166,  13.89704165,   9.31762922,  12.60950055,\n",
        "        14.11373101,  18.50769296,  21.51049763,  11.72909514,\n",
        "         4.822051  ,   3.32029251,   2.57888445,   5.52651796,\n",
        "         9.84480558,   7.77835666,   5.92844355,   6.49408241,\n",
        "         8.07190744,  11.77853983,  12.68213249,   8.86539794,\n",
        "         0.85603889,   0.91795034,   2.86576697,   3.71839858,\n",
        "         4.0065312 ,   4.30057845,   2.80228891,   3.96669124,\n",
        "         4.25263891,   5.8328805 ,   6.75641107,   4.29894516])"
       ]
      }
     ],
     "prompt_number": 11
    },
    {
     "cell_type": "code",
     "collapsed": false,
     "input": [
      "calculator = spectrophoreCalculator(resolution=3, accuracy=30, stereo='all', normalization='all') ## switching options\n",
      "calculator.calculate(mol_s)"
     ],
     "language": "python",
     "metadata": {},
     "outputs": [
      {
       "metadata": {},
       "output_type": "pyout",
       "prompt_number": 12,
       "text": [
        "array([-2.0682376 , -0.9256036 , -0.83473101, -1.13302073, -0.45642777,\n",
        "       -1.04839475, -1.06179802, -0.00747341,  1.03286473,  0.57161833,\n",
        "       -0.04879683,  0.04808406,  1.51836005,  0.70894894,  0.43927644,\n",
        "        1.03701432,  0.88118706,  1.43009742, -2.08760015, -0.98130217,\n",
        "       -0.92395326, -1.12986018, -0.33292941, -1.08617741, -1.10837478,\n",
        "       -0.09325636,  1.03981815,  0.46396026,  0.13221285,  0.04259986,\n",
        "        1.54039296,  0.80098892,  0.41317948,  0.94180713,  0.8468892 ,\n",
        "        1.43863725, -2.41923364, -0.76713994, -1.06066465, -0.58046662,\n",
        "       -0.53850637, -0.66262567, -0.82161297,  0.16433024,  0.61332401,\n",
        "        0.03576838, -0.27842489,  0.22407242,  1.33933494,  0.42501997,\n",
        "        0.63574088,  0.73927804,  1.56721107,  1.62695324, -2.5322884 ,\n",
        "       -0.85149551, -1.05012532, -0.64020879, -0.4099445 , -0.62633821,\n",
        "       -0.90596854,  0.13971685,  0.40156526,  0.26827871, -0.28530968,\n",
        "        0.07997468,  1.35592435,  0.58986929,  0.44743685,  0.63455975,\n",
        "        1.43864921,  1.70334555, -2.13824992, -1.20559776, -0.12399103,\n",
        "       -1.06169813, -0.84643529, -1.07449552, -0.95467151,  0.25889015,\n",
        "        1.1016229 ,  0.28664096,  0.04743946,  0.4443988 ,  1.39332697,\n",
        "        0.77453464, -0.08030863,  0.80519252,  1.18677236,  1.50141807,\n",
        "       -2.14897533, -1.01285133, -0.37430317, -1.10342875, -0.82543266,\n",
        "       -1.09970679, -0.96384066,  0.33165522,  1.02833443,  0.25440821,\n",
        "       -0.15550721,  0.40722434,  1.44432134,  0.69134022, -0.08942031,\n",
        "        0.89157533,  0.96597209,  1.44384597, -2.57003633, -0.25108024,\n",
        "       -0.92510759, -0.42196282, -0.86688387, -0.85996744, -1.13913414,\n",
        "        0.09233312,  1.14040788, -0.14513683, -0.33829958,  0.28937323,\n",
        "        1.85454043,  0.41054418,  0.7298462 ,  0.96689684,  0.90646327,\n",
        "        1.18485658, -2.52227978, -0.22603452, -0.93274125, -0.30628171,\n",
        "       -0.7631224 , -1.01736388, -0.73337384,  0.38062371,  0.72688966,\n",
        "        0.63320513, -0.50416882,  0.13842155,  1.46622797,  0.14670287,\n",
        "        0.29533614,  0.87399744,  0.85641987,  1.42988898])"
       ]
      }
     ],
     "prompt_number": 12
    },
    {
     "cell_type": "heading",
     "level": 2,
     "metadata": {},
     "source": [
      "PySpectrophore"
     ]
    },
    {
     "cell_type": "markdown",
     "metadata": {},
     "source": [
      "This is a software working likewise Obspectrophore. It is mandatory to provide a file (sdf, mol2) containing molecules as input and the name for the output file."
     ]
    },
    {
     "cell_type": "heading",
     "level": 4,
     "metadata": {},
     "source": [
      "Usage:"
     ]
    },
    {
     "cell_type": "markdown",
     "metadata": {},
     "source": [
      "$ PySpectrophore -i &lt;file&gt; -o &lt;outFile&gt; [options]\n"
     ]
    },
    {
     "cell_type": "heading",
     "level": 4,
     "metadata": {},
     "source": [
      "Options:"
     ]
    },
    {
     "cell_type": "markdown",
     "metadata": {},
     "source": [
      "-h, --help   :  \n",
      "\n",
      "                    show this help message and exit\n"
     ]
    },
    {
     "cell_type": "markdown",
     "metadata": {},
     "source": [
      "  -i FILE_INPUT, --InputFile=FILE_INPUT : \n",
      "  \n",
      "                      Store the name of the file to input data"
     ]
    },
    {
     "cell_type": "markdown",
     "metadata": {},
     "source": [
      "  -o FILE_OUTPUT, --OutFile=FILE_OUTPUT\n",
      "  \n",
      "                        File for the output file"
     ]
    },
    {
     "cell_type": "raw",
     "metadata": {},
     "source": [
      "  -n NORM, --Normalization=NORM\n",
      "  \n",
      "                        Specifies the kind of normalization that should be\n",
      "                        performed Valid values are:   none (default), mean,\n",
      "                        std, all"
     ]
    },
    {
     "cell_type": "markdown",
     "metadata": {},
     "source": [
      "  -s STEREO, --Stereo=STEREO\n",
      "  \n",
      "                        Specifies the kind of cages that should be use. Valid\n",
      "                        values are: none (default), unique, mirror, all"
     ]
    },
    {
     "cell_type": "markdown",
     "metadata": {},
     "source": [
      "  -t ROTATESIZE, --RotateSize=ROTATESIZE\n",
      "  \n",
      "                        1, 2, 5, 10, 15, 20 (default), 30, 36, 45, 60"
     ]
    },
    {
     "cell_type": "markdown",
     "metadata": {},
     "source": [
      " -e RESOLUTION, --Resolution=RESOLUTION\n",
      "  \n"
     ]
    },
    {
     "cell_type": "raw",
     "metadata": {},
     "source": []
    }
   ],
   "metadata": {}
  }
 ]
}