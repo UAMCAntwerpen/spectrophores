{
 "metadata": {
  "name": ""
 },
 "nbformat": 3,
 "nbformat_minor": 0,
 "worksheets": [
  {
   "cells": [
    {
     "cell_type": "heading",
     "level": 3,
     "metadata": {},
     "source": [
      "Dependencies:"
     ]
    },
    {
     "cell_type": "markdown",
     "metadata": {},
     "source": [
      "The Python-implementation of Spectrophores requires the following tools to,\n",
      "be installed:\n",
      "\n",
      "      * numpy <http://www.numpy.org>,\n",
      "      * scipy <http://www.scipy.org>,\n",
      "      * rdkit <http://www.rdkit.org>,\n",
      "      * boost <http://www.boost.org>,\n",
      "\n",
      "Please take a look at the websites addresses above to get more information about how to properly install these libraries. \n",
      "\n",
      "Next we are going to show how to install these libraries in a linux enviroment.\n",
      "\n",
      "Scipy and Numpy:\n",
      "\n",
      "$ sudo apt-get install python-numpy python-scipy python-matplotlib ipython ipython-notebook python-pandas python-sympy python-nose\n",
      "\n",
      "Boost library :\n",
      "\n",
      "$ sudo apt-get install libboost-all-dev\n",
      "\n",
      "RDKit:\n",
      "\n",
      "$ sudo apt-get install python-rdkit librdkit1 rdkit-data"
     ]
    },
    {
     "cell_type": "heading",
     "level": 3,
     "metadata": {},
     "source": [
      "Installing Spectrophore Library"
     ]
    },
    {
     "cell_type": "markdown",
     "metadata": {},
     "source": [
      "* Download spectrophore code from https://github.com/UAMCAntwerpen/spectrophores, and uncompress the file.\n",
      "\n",
      "* Go to spectrophores-master directory and type:\n",
      "\n",
      "    $ sudo python setup.py install \n",
      "\n",
      "Now, you already can use the Spectrophores in your python code by importing spectrophore library as following: \n"
     ]
    },
    {
     "cell_type": "code",
     "collapsed": false,
     "input": [
      "from spectrophores.spectrophore import spectrophoreCalculator"
     ],
     "language": "python",
     "metadata": {},
     "outputs": []
    },
    {
     "cell_type": "heading",
     "level": 3,
     "metadata": {},
     "source": [
      "Importing RDKit"
     ]
    },
    {
     "cell_type": "code",
     "collapsed": false,
     "input": [
      "#RDKit library\n",
      "from __future__ import print_function\n",
      "from rdkit import Chem\n",
      "from rdkit.Chem import AllChem"
     ],
     "language": "python",
     "metadata": {},
     "outputs": [],
     "prompt_number": 1
    },
    {
     "cell_type": "heading",
     "level": 3,
     "metadata": {},
     "source": [
      "Importing Spectrophore library"
     ]
    },
    {
     "cell_type": "code",
     "collapsed": false,
     "input": [
      "#spectrophore libray\n",
      "from spectrophores.spectrophore import spectrophoreCalculator"
     ],
     "language": "python",
     "metadata": {},
     "outputs": [],
     "prompt_number": 2
    },
    {
     "cell_type": "heading",
     "level": 2,
     "metadata": {},
     "source": [
      "Reading Molecules with RDKit"
     ]
    },
    {
     "cell_type": "markdown",
     "metadata": {},
     "source": [
      "In RDKit is possible to upload informations about molecules using several file formats, e.g. smiles, smarts, mol2, sdf. Basicaly, there are two main ways to pass information to RDKit, at a command line or loading by files. \n",
      "\n",
      "By default RDKit doesn't consider Hidrogens when loads a molecule, it's importante the user be conscient about this. "
     ]
    },
    {
     "cell_type": "heading",
     "level": 3,
     "metadata": {},
     "source": [
      "Loading Molecules From Smiles"
     ]
    },
    {
     "cell_type": "code",
     "collapsed": false,
     "input": [
      "smi_s = 'F[C@@](I)(Br)Cl'\n",
      "mol_s = Chem.MolFromSmiles(smi_s)\n",
      "AllChem.EmbedMolecule(mol_s) \n",
      "#AllChem.MMFFOptimizeMolecule(mol_s);"
     ],
     "language": "python",
     "metadata": {},
     "outputs": [],
     "prompt_number": 3
    },
    {
     "cell_type": "heading",
     "level": 3,
     "metadata": {},
     "source": [
      "Loading Molecules From a Sdf File"
     ]
    },
    {
     "cell_type": "code",
     "collapsed": false,
     "input": [
      "# reading entry files\n",
      "ref = Chem.SDMolSupplier(\"path_to_file\", removeHs=False)\n",
      "ref = [x for x in ref if x is not None] "
     ],
     "language": "python",
     "metadata": {},
     "outputs": []
    },
    {
     "cell_type": "markdown",
     "metadata": {},
     "source": [
      "Obs.: For more informations, please read the RDKit tutorial at <a href=http://www.rdkit.org/docs/GettingStartedInPython.html> http://www.rdkit.org/docs/GettingStartedInPython.html</a>."
     ]
    },
    {
     "cell_type": "heading",
     "level": 3,
     "metadata": {},
     "source": [
      "First Contact: Calculating Spectrophore"
     ]
    },
    {
     "cell_type": "code",
     "collapsed": false,
     "input": [
      "calculator = spectrophoreCalculator()\n",
      "calculator.calculate(mol_s)"
     ],
     "language": "python",
     "metadata": {},
     "outputs": [
      {
       "metadata": {},
       "output_type": "pyout",
       "prompt_number": 4,
       "text": [
        "array([  1.92190861,   2.58322483,   1.50779961,   4.47128574,\n",
        "         5.49701023,   6.98774323,   4.25212321,   3.95179533,\n",
        "         5.93661616,   8.23951424,   9.16096027,   5.32191626,\n",
        "         2.04999628,   2.52032422,   6.84607253,   9.52229459,\n",
        "        11.09511133,  13.52428646,   9.42900067,  13.15011982,\n",
        "        14.28082103,  18.63760512,  21.34117248,  11.49421108,\n",
        "         5.21088837,   3.72660843,   2.9043753 ,   6.03657827,\n",
        "        10.51868127,   8.18885522,   6.28237231,   6.97597263,\n",
        "         8.65288904,  12.48063001,  13.43179086,   9.62543559,\n",
        "         0.90592641,   0.98933782,   2.97022263,   3.7140072 ,\n",
        "         4.0505374 ,   4.2411592 ,   2.80612091,   4.0525092 ,\n",
        "         4.34418157,   5.74555681,   6.78125949,   4.25966378])"
       ]
      }
     ],
     "prompt_number": 4
    },
    {
     "cell_type": "heading",
     "level": 3,
     "metadata": {},
     "source": [
      "Working with multiple conformations"
     ]
    },
    {
     "cell_type": "markdown",
     "metadata": {},
     "source": [
      "Obs.:\n",
      "By default the \"calculate\" function uses the first conformation of one molecule ( position 0 ) to calculate the spectrophore. Thusm the commands bellow are equivalent: \n"
     ]
    },
    {
     "cell_type": "code",
     "collapsed": false,
     "input": [
      "calculator.calculate(mol_s)\n",
      "calculator.calculate(mol_s, 0)"
     ],
     "language": "python",
     "metadata": {},
     "outputs": [
      {
       "metadata": {},
       "output_type": "pyout",
       "prompt_number": 5,
       "text": [
        "array([  1.92190861,   2.58322483,   1.50779961,   4.47128574,\n",
        "         5.49701023,   6.98774323,   4.25212321,   3.95179533,\n",
        "         5.93661616,   8.23951424,   9.16096027,   5.32191626,\n",
        "         2.04999628,   2.52032422,   6.84607253,   9.52229459,\n",
        "        11.09511133,  13.52428646,   9.42900067,  13.15011982,\n",
        "        14.28082103,  18.63760512,  21.34117248,  11.49421108,\n",
        "         5.21088837,   3.72660843,   2.9043753 ,   6.03657827,\n",
        "        10.51868127,   8.18885522,   6.28237231,   6.97597263,\n",
        "         8.65288904,  12.48063001,  13.43179086,   9.62543559,\n",
        "         0.90592641,   0.98933782,   2.97022263,   3.7140072 ,\n",
        "         4.0505374 ,   4.2411592 ,   2.80612091,   4.0525092 ,\n",
        "         4.34418157,   5.74555681,   6.78125949,   4.25966378])"
       ]
      }
     ],
     "prompt_number": 5
    },
    {
     "cell_type": "markdown",
     "metadata": {},
     "source": [
      "In case you are working with more conformations per molecule it's necessary to manege them. This is possible to be done by passing  the number of the desired conformation \"calculate\" function, e.g:\n",
      "\n",
      "calculator.calculate(mol_s, 12)"
     ]
    },
    {
     "cell_type": "code",
     "collapsed": false,
     "input": [
      "from rdkit import Chem\n",
      "from rdkit.Chem import AllChem\n",
      "from spectrophores.spectrophore import spectrophoreCalculator\n",
      "\n",
      "calculator = spectrophoreCalculator()\n",
      "mol = Chem.AddHs(mol_s)\n",
      "cids = AllChem.EmbedMultipleConfs(mol, numConfs=3)\n",
      "for cid in cids: _ = AllChem.MMFFOptimizeMolecule(mol,confId=cid)\n",
      "for cid in cids:   print(calculator.calculate(mol, cid))"
     ],
     "language": "python",
     "metadata": {},
     "outputs": [
      {
       "output_type": "stream",
       "stream": "stdout",
       "text": [
        "[  1.86606977   2.56789813   1.45633328   4.49357307   5.50242712\n",
        "   6.98556965   4.25252195   3.97318298   5.90818836   8.26026185\n",
        "   9.21359395   5.32924673   2.01005957   2.61140984   6.70636348\n",
        "   9.54107245  11.05186403  13.55160792   9.27334778  12.58429334\n",
        "  13.80806738  18.34169036  21.13581675  11.50530609   4.87817249\n",
        "   3.23044278   2.58444873   5.24623688   9.67841642   7.5418315\n",
        "   5.73302089   6.40474773   7.63404298  11.37644261  12.14872799\n",
        "   8.41392054   0.87534509   0.90304641   2.84340646   3.7034292\n",
        "   4.03083116   4.2722111    2.81147519   4.06101617   4.24228586\n",
        "   5.85034363   6.78841493   4.30482044]\n",
        "[  1.85728916   2.57731165   1.50784717   4.5206971    5.47509492\n",
        "   6.91675279   4.31647669   3.91863288   5.91036672   8.32617851\n",
        "   9.16599194   5.35331276   2.00566453   2.6363733    6.91443399\n",
        "   9.85759669  11.08262133  13.66529644   9.10209417  12.24076161\n",
        "  14.29309916  18.43549696  20.81224843  12.04786438   4.79812818\n",
        "   3.25023603   2.59803819   5.24644942   9.61919157   7.54693459\n",
        "   5.72383541   6.36527601   7.69641739  11.31225621  12.16240066\n",
        "   8.24170898   0.87381826   0.89787339   2.75432485   4.26172584\n",
        "   4.23656848   4.55336069   2.92185902   3.88114588   4.44252425\n",
        "   5.86211448   7.18876785   4.90192895]\n",
        "[  1.86405862   2.56755727   1.45677854   4.49094725   5.50491651\n",
        "   6.98568781   4.25005178   3.97456055   5.90784641   8.25634744\n",
        "   9.21445992   5.33025057   2.00979839   2.60920041   6.67359571\n",
        "   9.48395425  11.03232128  13.51254581   9.27287625  12.62607639\n",
        "  13.76727105  18.33343976  21.09472794  11.43905452   4.87736429\n",
        "   3.23308413   2.58376708   5.2394604    9.67447571   7.54280413\n",
        "   5.7319817    6.40667461   7.63391452  11.37307416  12.15262721\n",
        "   8.40453518   0.87585767   0.90276287   2.83637719   3.69929131\n",
        "   4.02448778   4.26304248   2.81691069   4.0632953    4.25427213\n",
        "   5.83811821   6.79189566   4.28602214]"
       ]
      },
      {
       "output_type": "stream",
       "stream": "stdout",
       "text": [
        "\n"
       ]
      }
     ],
     "prompt_number": 6
    },
    {
     "cell_type": "markdown",
     "metadata": {},
     "source": [
      "Is possible to see that each conformation generates slightly diferent spectrophores"
     ]
    },
    {
     "cell_type": "code",
     "collapsed": false,
     "input": [
      "import matplotlib.pyplot as plt\n",
      "%matplotlib inline\n",
      "\n",
      "spectrophores = []\n",
      "for cid in cids: \n",
      "    spectrophores.append( calculator.calculate(mol, cid))\n",
      "\n",
      "plt.plot(range(1,49), spectrophores[0], label='Conf 1')\n",
      "plt.plot(range(1,49), spectrophores[1], label='Conf 2')\n",
      "plt.plot(range(1,49), spectrophores[2], label='Conf 3')\n",
      "plt.legend(loc='upper left')\n",
      "plt.suptitle(\"Spectrophores calculated for three molecular conformations\")\n",
      "\n"
     ],
     "language": "python",
     "metadata": {},
     "outputs": [
      {
       "metadata": {},
       "output_type": "pyout",
       "prompt_number": 9,
       "text": [
        "<matplotlib.text.Text at 0x7f7252965f50>"
       ]
      },
      {
       "metadata": {},
       "output_type": "display_data",
       "png": "[encoded data removed]",
       "text": [
        "<matplotlib.figure.Figure at 0x7f727f7dbc90>"
       ]
      }
     ],
     "prompt_number": 9
    },
    {
     "cell_type": "heading",
     "level": 3,
     "metadata": {},
     "source": [
      "Default options:"
     ]
    },
    {
     "cell_type": "markdown",
     "metadata": {},
     "source": [
      "#### Normalization:\n",
      "\n",
      "    Specifies the kind of normalization that should be performed\n",
      "    \n",
      "    Valid values are:   none (default), mean, std, all\n",
      "\n",
      "#### Stereo:\n",
      "\n",
      "    Specifies the kind of cages that should be use. \n",
      "    \n",
      "    Valid values are: none (default), unique, mirror, all\n",
      "\n",
      "#### RotateStepSize:\n",
      "\n",
      "    Valid values are: 1, 2, 5, 10, 15, 20 (default), 30, 36, 45, 60\n",
      "\n",
      "\n",
      "#### Resolution:\n",
      "\n",
      "    Defaut 3 Angstrons. This value can't be negative\n",
      "\n"
     ]
    },
    {
     "cell_type": "heading",
     "level": 4,
     "metadata": {},
     "source": [
      "Examples:"
     ]
    },
    {
     "cell_type": "code",
     "collapsed": false,
     "input": [
      "#Using defaut options\n",
      "calculator = spectrophoreCalculator(resolution=3, accuracy=20, stereo='none', normalization='none') ## default\n",
      "calculator.calculate(mol_s)"
     ],
     "language": "python",
     "metadata": {},
     "outputs": [
      {
       "metadata": {},
       "output_type": "pyout",
       "prompt_number": 10,
       "text": [
        "array([  1.92190861,   2.58322483,   1.50779961,   4.47128574,\n",
        "         5.49701023,   6.98774323,   4.25212321,   3.95179533,\n",
        "         5.93661616,   8.23951424,   9.16096027,   5.32191626,\n",
        "         2.04999628,   2.52032422,   6.84607253,   9.52229459,\n",
        "        11.09511133,  13.52428646,   9.42900067,  13.15011982,\n",
        "        14.28082103,  18.63760512,  21.34117248,  11.49421108,\n",
        "         5.21088837,   3.72660843,   2.9043753 ,   6.03657827,\n",
        "        10.51868127,   8.18885522,   6.28237231,   6.97597263,\n",
        "         8.65288904,  12.48063001,  13.43179086,   9.62543559,\n",
        "         0.90592641,   0.98933782,   2.97022263,   3.7140072 ,\n",
        "         4.0505374 ,   4.2411592 ,   2.80612091,   4.0525092 ,\n",
        "         4.34418157,   5.74555681,   6.78125949,   4.25966378])"
       ]
      }
     ],
     "prompt_number": 10
    },
    {
     "cell_type": "code",
     "collapsed": false,
     "input": [
      "#Switching default options\n",
      "calculator = spectrophoreCalculator(resolution=3, accuracy=30, stereo='all', normalization='all') ## switching options\n",
      "calculator.calculate(mol_s)"
     ],
     "language": "python",
     "metadata": {},
     "outputs": [
      {
       "metadata": {},
       "output_type": "pyout",
       "prompt_number": 11,
       "text": [
        "array([-2.08022386, -0.91592416, -0.82411352, -1.14296027, -0.46892617,\n",
        "       -1.04493663, -1.05762336, -0.01323136,  1.02583874,  0.59879848,\n",
        "       -0.03521629,  0.06492113,  1.50566713,  0.6982763 ,  0.4338022 ,\n",
        "        1.02185115,  0.85260703,  1.44078985, -2.08676878, -0.98697473,\n",
        "       -0.93161979, -1.13183342, -0.33010009, -1.09275976, -1.09708526,\n",
        "       -0.09777615,  1.03830705,  0.50500084,  0.11716313,  0.05097852,\n",
        "        1.52092193,  0.80939691,  0.40032717,  0.9611015 ,  0.83916316,\n",
        "        1.45316138, -2.41220913, -0.8212793 , -1.04834398, -0.53722214,\n",
        "       -0.53955086, -0.66191209, -0.78910571,  0.18245861,  0.55130209,\n",
        "        0.05531385, -0.22926086,  0.24087552,  1.24527993,  0.36574043,\n",
        "        0.61757513,  0.77006557,  1.62131304,  1.67972995, -2.51631403,\n",
        "       -0.94863554, -1.01091361, -0.59563904, -0.41240609, -0.60998744,\n",
        "       -0.91646196,  0.11351927,  0.35924817,  0.24066404, -0.24395882,\n",
        "        0.08375046,  1.26831655,  0.54480983,  0.43201347,  0.63025232,\n",
        "        1.49416828,  1.79680409, -2.1647192 , -1.19728371, -0.11851702,\n",
        "       -1.02513562, -0.83776334, -1.0951443 , -0.95735756,  0.25333142,\n",
        "        1.07300912,  0.26721346,  0.04759481,  0.46082719,  1.3736082 ,\n",
        "        0.76910968, -0.09746949,  0.77407986,  1.18920642,  1.52436018,\n",
        "       -2.16367926, -1.01284951, -0.36226669, -1.07508787, -0.77911114,\n",
        "       -1.08782087, -1.0029651 ,  0.33481162,  1.01221782,  0.25534569,\n",
        "       -0.16967796,  0.41792405,  1.45495148,  0.71957771, -0.09255346,\n",
        "        0.92023055,  0.94661323,  1.44538962, -2.57528865, -0.2488703 ,\n",
        "       -0.89841974, -0.36924922, -0.88202816, -0.85113907, -1.19203365,\n",
        "        0.16944144,  1.00923763, -0.17236061, -0.35266014,  0.24079904,\n",
        "        1.88170462,  0.37085075,  0.68323566,  0.92097298,  0.9728652 ,\n",
        "        1.20032142, -2.52389962, -0.20802159, -0.92381276, -0.24317427,\n",
        "       -0.79755072, -1.04113325, -0.73640161,  0.45185966,  0.71126947,\n",
        "        0.70162257, -0.53711522,  0.1781936 ,  1.3966565 ,  0.20119962,\n",
        "        0.26605841,  0.85901519,  0.8898843 ,  1.44797053])"
       ]
      }
     ],
     "prompt_number": 11
    },
    {
     "cell_type": "heading",
     "level": 2,
     "metadata": {},
     "source": [
      "PySpectrophore.py file"
     ]
    },
    {
     "cell_type": "markdown",
     "metadata": {},
     "source": [
      "Trying to make easier the usage of the spectrphore by the user, we also make available file PySpectrophore.py. With this file is possible to use spectrophore with command lines. Here, is mandatory to provide a file (sdf, mol2) containing molecules as input file and the name for the output file.\n",
      "\n",
      "Obs.: \n",
      "Using linux plataforms you can easily make this file globaly available by copy and past this file to /usr/local/bin or creating a alias for it."
     ]
    },
    {
     "cell_type": "heading",
     "level": 4,
     "metadata": {},
     "source": [
      "Usage:"
     ]
    },
    {
     "cell_type": "markdown",
     "metadata": {},
     "source": [
      "$ PySpectrophore -i &lt;file&gt; -o &lt;outFile&gt; [options]\n"
     ]
    },
    {
     "cell_type": "heading",
     "level": 4,
     "metadata": {},
     "source": [
      "Options:"
     ]
    },
    {
     "cell_type": "markdown",
     "metadata": {},
     "source": [
      "-h, --help   :  \n",
      "\n",
      "                    show this help message and exit\n"
     ]
    },
    {
     "cell_type": "markdown",
     "metadata": {},
     "source": [
      "  -i FILE_INPUT, --InputFile=FILE_INPUT : \n",
      "  \n",
      "                      Store the name of the file to input data"
     ]
    },
    {
     "cell_type": "markdown",
     "metadata": {},
     "source": [
      "  -o FILE_OUTPUT, --OutFile=FILE_OUTPUT\n",
      "  \n",
      "                        File for the output file"
     ]
    },
    {
     "cell_type": "markdown",
     "metadata": {},
     "source": [
      "-n NORM, --Normalization=NORM\n",
      "  \n",
      "                        Specifies the kind of normalization that should be\n",
      "                        performed Valid values are:   none (default), mean,\n",
      "                        std, all"
     ]
    },
    {
     "cell_type": "markdown",
     "metadata": {},
     "source": [
      "  -s STEREO, --Stereo=STEREO\n",
      "  \n",
      "                        Specifies the kind of cages that should be use. Valid\n",
      "                        values are: none (default), unique, mirror, all"
     ]
    },
    {
     "cell_type": "markdown",
     "metadata": {},
     "source": [
      "  -t ROTATESIZE, --RotateSize=ROTATESIZE\n",
      "  \n",
      "                        1, 2, 5, 10, 15, 20 (default), 30, 36, 45, 60"
     ]
    },
    {
     "cell_type": "markdown",
     "metadata": {},
     "source": [
      " -e RESOLUTION, --Resolution=RESOLUTION\n",
      "  \n"
     ]
    },
    {
     "cell_type": "raw",
     "metadata": {},
     "source": []
    }
   ],
   "metadata": {}
  }
 ]
}